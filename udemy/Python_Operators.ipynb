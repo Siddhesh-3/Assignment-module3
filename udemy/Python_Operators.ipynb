{
  "nbformat": 4,
  "nbformat_minor": 0,
  "metadata": {
    "colab": {
      "name": "Python Operators",
      "provenance": [],
      "authorship_tag": "ABX9TyPyqjTXzpGkSaYu/2iyWVsx",
      "include_colab_link": true
    },
    "kernelspec": {
      "name": "python3",
      "display_name": "Python 3"
    }
  },
  "cells": [
    {
      "cell_type": "markdown",
      "metadata": {
        "id": "view-in-github",
        "colab_type": "text"
      },
      "source": [
        "<a href=\"https://colab.research.google.com/github/Siddhesh-3/Assignment-module3/blob/main/udemy/Python_Operators.ipynb\" target=\"_parent\"><img src=\"https://colab.research.google.com/assets/colab-badge.svg\" alt=\"Open In Colab\"/></a>"
      ]
    },
    {
      "cell_type": "code",
      "metadata": {
        "id": "WYbkyekONarZ"
      },
      "source": [
        "# Operators\r\n",
        "'''\r\n",
        "+\r\n",
        "-\r\n",
        "=\r\n",
        "+=\r\n",
        "==\r\n",
        "!=\r\n",
        "and\r\n",
        "or\r\n",
        "is\r\n",
        "is not\r\n",
        "in\r\n",
        "in not\r\n",
        "&  (AND)\r\n",
        "i (OR)\r\n",
        "^   (XOR)\r\n",
        "'''\r\n"
      ],
      "execution_count": null,
      "outputs": []
    },
    {
      "cell_type": "code",
      "metadata": {
        "id": "9T_4c79PQt-h"
      },
      "source": [
        "#Arithmatic Opertaors\r\n",
        "'''\r\n",
        "addition         +\r\n",
        "subtraction      -\r\n",
        "Multiplication   *\r\n",
        "division         /\r\n",
        "'''\r\n",
        "#Advance\r\n",
        "'''\r\n",
        "Modulus           %        #reminder\r\n",
        "Floor Division    //       #raise to a power\r\n",
        "Exponent          *       #power number\r\n",
        "'''"
      ],
      "execution_count": null,
      "outputs": []
    },
    {
      "cell_type": "code",
      "metadata": {
        "colab": {
          "base_uri": "https://localhost:8080/"
        },
        "id": "EqgHfJuwTUhe",
        "outputId": "972e0b3b-f98e-4309-f147-f45770fcb3db"
      },
      "source": [
        "x = 21\r\n",
        "y = 2\r\n",
        "floordiv = x // y\r\n",
        "print(floordiv) # it gives 10*2 + 1 <- 10 from "
      ],
      "execution_count": null,
      "outputs": [
        {
          "output_type": "stream",
          "text": [
            "10\n"
          ],
          "name": "stdout"
        }
      ]
    },
    {
      "cell_type": "code",
      "metadata": {
        "colab": {
          "base_uri": "https://localhost:8080/"
        },
        "id": "zciaCr0tTu72",
        "outputId": "1c4558ef-9a27-46aa-fb79-e1f8d3a4ea39"
      },
      "source": [
        "modulus = x % y #gives reminder\r\n",
        "print(modulus)"
      ],
      "execution_count": null,
      "outputs": [
        {
          "output_type": "stream",
          "text": [
            "1\n"
          ],
          "name": "stdout"
        }
      ]
    },
    {
      "cell_type": "code",
      "metadata": {
        "colab": {
          "base_uri": "https://localhost:8080/"
        },
        "id": "_U_V3XKBURC9",
        "outputId": "1be24414-707a-4869-cb68-c0549080a1eb"
      },
      "source": [
        "division = x / y\r\n",
        "print(division) #give division"
      ],
      "execution_count": null,
      "outputs": [
        {
          "output_type": "stream",
          "text": [
            "10.5\n"
          ],
          "name": "stdout"
        }
      ]
    },
    {
      "cell_type": "code",
      "metadata": {
        "colab": {
          "base_uri": "https://localhost:8080/"
        },
        "id": "pkAgpYruT_Vw",
        "outputId": "e2ea45e4-3886-4824-ef32-94534d3d6565"
      },
      "source": [
        "exponents = x*x\r\n",
        "print(exponents) #power"
      ],
      "execution_count": null,
      "outputs": [
        {
          "output_type": "stream",
          "text": [
            "441\n"
          ],
          "name": "stdout"
        }
      ]
    },
    {
      "cell_type": "code",
      "metadata": {
        "id": "LqdRASpWUPtL"
      },
      "source": [
        "#Assignment Operator\r\n",
        "\r\n",
        "=\r\n",
        "+=\r\n",
        "-=\r\n",
        "*= oldvalue*newvalue\r\n",
        "#advance\r\n",
        "%= modulus assign\r\n",
        "*= exponent and assign\r\n",
        "//= floor assign"
      ],
      "execution_count": null,
      "outputs": []
    },
    {
      "cell_type": "code",
      "metadata": {
        "colab": {
          "base_uri": "https://localhost:8080/"
        },
        "id": "5rCmu2goxaYI",
        "outputId": "63d9db23-c586-4791-eaf3-9a52727fa658"
      },
      "source": [
        "x= 3\r\n",
        "x1 = x + 4\r\n",
        "x += 4\r\n",
        "print(x1) #both output same\r\n",
        "print(x)\r\n"
      ],
      "execution_count": null,
      "outputs": [
        {
          "output_type": "stream",
          "text": [
            "7\n",
            "7\n"
          ],
          "name": "stdout"
        }
      ]
    },
    {
      "cell_type": "code",
      "metadata": {
        "colab": {
          "base_uri": "https://localhost:8080/"
        },
        "id": "LBosQerOyCSx",
        "outputId": "58e3a1a5-f1b3-406b-e324-0e16b4618230"
      },
      "source": [
        "x //= 2\r\n",
        "print(x)"
      ],
      "execution_count": null,
      "outputs": [
        {
          "output_type": "stream",
          "text": [
            "1\n"
          ],
          "name": "stdout"
        }
      ]
    },
    {
      "cell_type": "code",
      "metadata": {
        "id": "H_BIHUPvzLan"
      },
      "source": [
        "#Comparison Operator\r\n",
        "\r\n",
        "==\r\n",
        "!=\r\n",
        "<\r\n",
        "<=\r\n",
        ">\r\n",
        ">=\r\n"
      ],
      "execution_count": null,
      "outputs": []
    },
    {
      "cell_type": "code",
      "metadata": {
        "colab": {
          "base_uri": "https://localhost:8080/"
        },
        "id": "lcFsv8t1zULm",
        "outputId": "414aff92-ce01-4296-d2a3-f6ee10a24e76"
      },
      "source": [
        "first_number = 4\r\n",
        "second = 5\r\n",
        "print(first_number >= second)"
      ],
      "execution_count": null,
      "outputs": [
        {
          "output_type": "stream",
          "text": [
            "False\n"
          ],
          "name": "stdout"
        }
      ]
    },
    {
      "cell_type": "code",
      "metadata": {
        "colab": {
          "base_uri": "https://localhost:8080/"
        },
        "id": "7TXKdafW0MAo",
        "outputId": "54f2208e-435a-413c-c9a8-cfe33e1d35a4"
      },
      "source": [
        "first_number = 4\r\n",
        "second = 5\r\n",
        "print(first_number + 5 >= second)"
      ],
      "execution_count": null,
      "outputs": [
        {
          "output_type": "stream",
          "text": [
            "True\n"
          ],
          "name": "stdout"
        }
      ]
    },
    {
      "cell_type": "code",
      "metadata": {
        "id": "TUJzBDcM3v7Q"
      },
      "source": [
        "#Logical Operator\r\n",
        "'''\r\n",
        "not\r\n",
        "or\r\n",
        "and\r\n",
        "'''"
      ],
      "execution_count": null,
      "outputs": []
    },
    {
      "cell_type": "code",
      "metadata": {
        "colab": {
          "base_uri": "https://localhost:8080/"
        },
        "id": "6rbVucRP34f6",
        "outputId": "a7f7bd9a-46f9-42d9-a512-f9e329b41d0c"
      },
      "source": [
        "x = 1\r\n",
        "y = 2\r\n",
        "z = 3\r\n",
        "\r\n",
        "x > 1"
      ],
      "execution_count": null,
      "outputs": [
        {
          "output_type": "execute_result",
          "data": {
            "text/plain": [
              "False"
            ]
          },
          "metadata": {
            "tags": []
          },
          "execution_count": 15
        }
      ]
    },
    {
      "cell_type": "code",
      "metadata": {
        "colab": {
          "base_uri": "https://localhost:8080/"
        },
        "id": "PjTNkPhr6Var",
        "outputId": "4d8f8a99-f4c5-4891-c89a-8bdef46555de"
      },
      "source": [
        "y > 1"
      ],
      "execution_count": null,
      "outputs": [
        {
          "output_type": "execute_result",
          "data": {
            "text/plain": [
              "True"
            ]
          },
          "metadata": {
            "tags": []
          },
          "execution_count": 14
        }
      ]
    },
    {
      "cell_type": "code",
      "metadata": {
        "colab": {
          "base_uri": "https://localhost:8080/"
        },
        "id": "EvMyT4Zz6bEL",
        "outputId": "357f9234-c4ef-4be4-ad2b-c8ee43f7a2b6"
      },
      "source": [
        "(x > 1) or (y > 1) "
      ],
      "execution_count": null,
      "outputs": [
        {
          "output_type": "execute_result",
          "data": {
            "text/plain": [
              "True"
            ]
          },
          "metadata": {
            "tags": []
          },
          "execution_count": 16
        }
      ]
    },
    {
      "cell_type": "code",
      "metadata": {
        "colab": {
          "base_uri": "https://localhost:8080/"
        },
        "id": "9mNMEH9Z6kfQ",
        "outputId": "ca2de5c4-65d2-48c9-b6d3-3f5f830a5a24"
      },
      "source": [
        "not (x > 2)"
      ],
      "execution_count": null,
      "outputs": [
        {
          "output_type": "execute_result",
          "data": {
            "text/plain": [
              "True"
            ]
          },
          "metadata": {
            "tags": []
          },
          "execution_count": 17
        }
      ]
    },
    {
      "cell_type": "code",
      "metadata": {
        "colab": {
          "base_uri": "https://localhost:8080/"
        },
        "id": "8j5xerCA6sfY",
        "outputId": "3a16fd32-0703-41c9-fbc2-8d07901cea08"
      },
      "source": [
        "bool(\"\")"
      ],
      "execution_count": null,
      "outputs": [
        {
          "output_type": "execute_result",
          "data": {
            "text/plain": [
              "False"
            ]
          },
          "metadata": {
            "tags": []
          },
          "execution_count": 18
        }
      ]
    },
    {
      "cell_type": "code",
      "metadata": {
        "colab": {
          "base_uri": "https://localhost:8080/"
        },
        "id": "ybeg82wx6z6P",
        "outputId": "07181180-02bf-4591-fac8-ab88333405f5"
      },
      "source": [
        "bool(0)"
      ],
      "execution_count": null,
      "outputs": [
        {
          "output_type": "execute_result",
          "data": {
            "text/plain": [
              "False"
            ]
          },
          "metadata": {
            "tags": []
          },
          "execution_count": 19
        }
      ]
    },
    {
      "cell_type": "code",
      "metadata": {
        "colab": {
          "base_uri": "https://localhost:8080/"
        },
        "id": "4CnHl0lg63C5",
        "outputId": "6dce49c2-01a3-47d5-f527-72c5dc766409"
      },
      "source": [
        "bool(\"2\")\r\n",
        "#we cannot compare string to boolean"
      ],
      "execution_count": null,
      "outputs": [
        {
          "output_type": "execute_result",
          "data": {
            "text/plain": [
              "True"
            ]
          },
          "metadata": {
            "tags": []
          },
          "execution_count": 20
        }
      ]
    },
    {
      "cell_type": "code",
      "metadata": {
        "id": "aRIyZ8J-9fgg"
      },
      "source": [
        "#identity operator\r\n",
        "is\r\n",
        "not is\r\n"
      ],
      "execution_count": null,
      "outputs": []
    },
    {
      "cell_type": "code",
      "metadata": {
        "id": "CbotVmxr9o_P"
      },
      "source": [
        "x = 10\r\n",
        "y = 20\r\n"
      ],
      "execution_count": null,
      "outputs": []
    },
    {
      "cell_type": "code",
      "metadata": {
        "colab": {
          "base_uri": "https://localhost:8080/"
        },
        "id": "Vb7MqDSb9tf4",
        "outputId": "d9691053-652f-499a-e268-e6b063d77123"
      },
      "source": [
        "print(x is y)"
      ],
      "execution_count": null,
      "outputs": [
        {
          "output_type": "stream",
          "text": [
            "False\n"
          ],
          "name": "stdout"
        }
      ]
    },
    {
      "cell_type": "code",
      "metadata": {
        "id": "m5RH2RkI97Ah"
      },
      "source": [
        "#membership operator\r\n",
        "in\r\n",
        "in not"
      ],
      "execution_count": null,
      "outputs": []
    },
    {
      "cell_type": "code",
      "metadata": {
        "id": "RH8Yurkg9_6s"
      },
      "source": [
        "x = \"sid\"\r\n",
        "y = \"sid gaykar\"\r\n"
      ],
      "execution_count": null,
      "outputs": []
    },
    {
      "cell_type": "code",
      "metadata": {
        "colab": {
          "base_uri": "https://localhost:8080/"
        },
        "id": "lNypXR5b-PEH",
        "outputId": "e1da41c9-829b-41fb-e404-8060bfff528d"
      },
      "source": [
        "print(x  in y)"
      ],
      "execution_count": null,
      "outputs": [
        {
          "output_type": "stream",
          "text": [
            "True\n"
          ],
          "name": "stdout"
        }
      ]
    },
    {
      "cell_type": "code",
      "metadata": {
        "id": "0zlBOxWR-ZAn"
      },
      "source": [
        "#Bitwise Opertor\r\n",
        "& -bitwise and\r\n",
        "| -bitwise or\r\n",
        "~ -negate\r\n",
        "^ -XOR\r\n",
        ">> -shift right\r\n",
        "<< -shift left\r\n"
      ],
      "execution_count": null,
      "outputs": []
    },
    {
      "cell_type": "code",
      "metadata": {
        "id": "vxAS6qZq_ANm"
      },
      "source": [
        "x = 3 #binary(0011)"
      ],
      "execution_count": null,
      "outputs": []
    },
    {
      "cell_type": "code",
      "metadata": {
        "colab": {
          "base_uri": "https://localhost:8080/",
          "height": 35
        },
        "id": "zyYFHO9p_ax9",
        "outputId": "2a7be77e-033f-4f7d-ab1e-5fb57d2e4e84"
      },
      "source": [
        "bin(x) #convert in binary"
      ],
      "execution_count": null,
      "outputs": [
        {
          "output_type": "execute_result",
          "data": {
            "application/vnd.google.colaboratory.intrinsic+json": {
              "type": "string"
            },
            "text/plain": [
              "'0b11'"
            ]
          },
          "metadata": {
            "tags": []
          },
          "execution_count": 30
        }
      ]
    },
    {
      "cell_type": "code",
      "metadata": {
        "colab": {
          "base_uri": "https://localhost:8080/",
          "height": 35
        },
        "id": "Mlg1PENV_iXR",
        "outputId": "98b8371b-70c8-4f06-8086-f9804506e26d"
      },
      "source": [
        "y=4 #binary(0100)\r\n",
        "bin(y)"
      ],
      "execution_count": null,
      "outputs": [
        {
          "output_type": "execute_result",
          "data": {
            "application/vnd.google.colaboratory.intrinsic+json": {
              "type": "string"
            },
            "text/plain": [
              "'0b100'"
            ]
          },
          "metadata": {
            "tags": []
          },
          "execution_count": 31
        }
      ]
    },
    {
      "cell_type": "code",
      "metadata": {
        "colab": {
          "base_uri": "https://localhost:8080/"
        },
        "id": "QF7IieOc_nB8",
        "outputId": "797a949b-b31a-4286-e25a-bc4859ac3304"
      },
      "source": [
        "z = y | x\r\n",
        "print(z)"
      ],
      "execution_count": null,
      "outputs": [
        {
          "output_type": "stream",
          "text": [
            "7\n"
          ],
          "name": "stdout"
        }
      ]
    },
    {
      "cell_type": "code",
      "metadata": {
        "colab": {
          "base_uri": "https://localhost:8080/"
        },
        "id": "T6X-3h8r_vsb",
        "outputId": "d676f08e-071f-46fa-98b5-f5fa61e21e9d"
      },
      "source": [
        "print(bin(z))\r\n",
        "print(~x)"
      ],
      "execution_count": null,
      "outputs": [
        {
          "output_type": "stream",
          "text": [
            "0b111\n",
            "-4\n"
          ],
          "name": "stdout"
        }
      ]
    },
    {
      "cell_type": "code",
      "metadata": {
        "colab": {
          "base_uri": "https://localhost:8080/"
        },
        "id": "Jr9OB2hRAkoK",
        "outputId": "2169c247-74ca-4a7f-d23a-422b1cf229ce"
      },
      "source": [
        "print(bin(y))"
      ],
      "execution_count": null,
      "outputs": [
        {
          "output_type": "stream",
          "text": [
            "0b100\n"
          ],
          "name": "stdout"
        }
      ]
    },
    {
      "cell_type": "code",
      "metadata": {
        "colab": {
          "base_uri": "https://localhost:8080/"
        },
        "id": "tgUzJrjUAonL",
        "outputId": "a7d7284e-9165-4827-af97-343912d5b994"
      },
      "source": [
        "print(bin(x^y)) XOR  (0011 XOR 0100) addition of binary"
      ],
      "execution_count": null,
      "outputs": [
        {
          "output_type": "stream",
          "text": [
            "0b111\n"
          ],
          "name": "stdout"
        }
      ]
    },
    {
      "cell_type": "code",
      "metadata": {
        "colab": {
          "base_uri": "https://localhost:8080/"
        },
        "id": "MmTpwvh5A3FL",
        "outputId": "79bc8de6-b827-4d00-96e3-3a5245029aa9"
      },
      "source": [
        "x >> 1 #binary shifting right last 1 of x (0011)"
      ],
      "execution_count": null,
      "outputs": [
        {
          "output_type": "execute_result",
          "data": {
            "text/plain": [
              "1"
            ]
          },
          "metadata": {
            "tags": []
          },
          "execution_count": 38
        }
      ]
    },
    {
      "cell_type": "code",
      "metadata": {
        "colab": {
          "base_uri": "https://localhost:8080/"
        },
        "id": "VONUM5yOBQhr",
        "outputId": "e8cd3ecb-ecce-465a-e867-fe48d148e924"
      },
      "source": [
        "x << 1 #binary shifting left last 1 of x (0011)"
      ],
      "execution_count": null,
      "outputs": [
        {
          "output_type": "execute_result",
          "data": {
            "text/plain": [
              "6"
            ]
          },
          "metadata": {
            "tags": []
          },
          "execution_count": 40
        }
      ]
    }
  ]
}